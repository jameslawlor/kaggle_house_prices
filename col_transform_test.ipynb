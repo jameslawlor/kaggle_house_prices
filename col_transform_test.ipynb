{
 "cells": [
  {
   "cell_type": "code",
   "execution_count": 60,
   "metadata": {
    "collapsed": false
   },
   "outputs": [
    {
     "name": "stdout",
     "output_type": "stream",
     "text": [
      "{1.0: 1, 10.0: 4, 4.0: 2, 7.0: 3}\n",
      "<bound method IndexOpsMixin.unique of 0       3\n",
      "1       3\n",
      "2       3\n",
      "3       3\n",
      "4       3\n",
      "5       2\n",
      "6       3\n",
      "7       3\n",
      "8       3\n",
      "9       2\n",
      "10      2\n",
      "11      4\n",
      "12      2\n",
      "13      3\n",
      "14      3\n",
      "15      3\n",
      "16      3\n",
      "17      2\n",
      "18      2\n",
      "19      2\n",
      "20      3\n",
      "21      3\n",
      "22      3\n",
      "23      2\n",
      "24      2\n",
      "25      3\n",
      "26      2\n",
      "27      3\n",
      "28      2\n",
      "29      2\n",
      "       ..\n",
      "1430    2\n",
      "1431    3\n",
      "1432    2\n",
      "1433    3\n",
      "1434    2\n",
      "1435    3\n",
      "1436    2\n",
      "1437    3\n",
      "1438    3\n",
      "1439    3\n",
      "1440    3\n",
      "1441    3\n",
      "1442    4\n",
      "1443    3\n",
      "1444    3\n",
      "1445    3\n",
      "1446    2\n",
      "1447    3\n",
      "1448    2\n",
      "1449    2\n",
      "1450    2\n",
      "1451    3\n",
      "1452    2\n",
      "1453    2\n",
      "1454    3\n",
      "1455    3\n",
      "1456    3\n",
      "1457    3\n",
      "1458    2\n",
      "1459    2\n",
      "Name: transform, dtype: int64>\n"
     ]
    },
    {
     "data": {
      "text/plain": [
       "<matplotlib.axes._subplots.AxesSubplot at 0x1a112fc4780>"
      ]
     },
     "execution_count": 60,
     "metadata": {},
     "output_type": "execute_result"
    },
    {
     "data": {
      "image/png": "[encoded data removed]",
      "text/plain": [
       "<matplotlib.figure.Figure at 0x1a112e53320>"
      ]
     },
     "metadata": {},
     "output_type": "display_data"
    }
   ],
   "source": [
    "import pandas as pd\n",
    "import numpy as np\n",
    "import matplotlib.pylab as plt\n",
    "%matplotlib inline\n",
    "\n",
    "def banding(series,n_bands):\n",
    "    bands = np.linspace(series.min(),series.max(),n_bands)\n",
    "    band_dic = dict((val,int(key)) for (key,val) in zip(np.arange(1,len(bands)+1,1),bands))\n",
    "    def allocate_band(y):\n",
    "        closest = min(bands, key=lambda x:abs(x-y))\n",
    "        return band_dic[closest]\n",
    "    print(band_dic)\n",
    "    return series.apply(lambda x: int(allocate_band(x)))\n",
    "    \n",
    "\n",
    "df = pd.read_csv(\"train.csv\")[[\"OverallQual\"]]\n",
    "#print(df.describe())\n",
    "df[\"transform\"] = banding(df[\"OverallQual\"],4)\n",
    "print(df[\"transform\"].unique)\n",
    "df[\"transform\"].hist()"
   ]
  },
  {
   "cell_type": "code",
   "execution_count": null,
   "metadata": {
    "collapsed": true
   },
   "outputs": [],
   "source": []
  }
 ],
 "metadata": {
  "kernelspec": {
   "display_name": "Python [Root]",
   "language": "python",
   "name": "Python [Root]"
  },
  "language_info": {
   "codemirror_mode": {
    "name": "ipython",
    "version": 3
   },
   "file_extension": ".py",
   "mimetype": "text/x-python",
   "name": "python",
   "nbconvert_exporter": "python",
   "pygments_lexer": "ipython3",
   "version": "3.5.2"
  }
 },
 "nbformat": 4,
 "nbformat_minor": 0
}
